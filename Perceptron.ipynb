{
 "cells": [
  {
   "cell_type": "code",
   "execution_count": 1,
   "metadata": {},
   "outputs": [],
   "source": [
    "import numpy as np\n",
    "import matplotlib.pyplot as plt"
   ]
  },
  {
   "cell_type": "markdown",
   "metadata": {},
   "source": [
    "# Question 0/ Perceptron"
   ]
  },
  {
   "cell_type": "markdown",
   "metadata": {},
   "source": [
    "## Perceptron Batch"
   ]
  },
  {
   "cell_type": "code",
   "execution_count": 2,
   "metadata": {},
   "outputs": [],
   "source": [
    "def perceptron_batch(P, N, X, tau, alpha):\n",
    "    # Initialisation des poids W\n",
    "    W = np.random.uniform(-1,1,(N+1,1))\n",
    "    stop = False\n",
    "    IT = 0\n",
    "    while not stop:\n",
    "        IT += 1\n",
    "        Dw = np.zeros((N+1,1))\n",
    "        ones = np.ones((P,1))\n",
    "        X_new = np.append(ones,X,axis=1)\n",
    "        y = np.sign(X_new@W)\n",
    "        # Vérifiation si tout les données ont été bien classifié\n",
    "        if np.array_equal(y,tau):\n",
    "            stop = True\n",
    "        else:\n",
    "            # Mise à jour des poids\n",
    "            Dw = alpha*X_new.T@(tau - y)\n",
    "            W = W + Dw\n",
    "            \n",
    "    return W, IT\n",
    "            "
   ]
  },
  {
   "cell_type": "markdown",
   "metadata": {},
   "source": [
    "## Perceptron Online"
   ]
  },
  {
   "cell_type": "code",
   "execution_count": 3,
   "metadata": {},
   "outputs": [],
   "source": [
    "def perceptron_online(P, N, X, tau, alpha):\n",
    "    # Initialisation des poids W\n",
    "    W = np.random.uniform(-1,1,(N+1,1))\n",
    "    Dw = np.zeros((N+1,1))\n",
    "    ones = np.ones((P,1))\n",
    "    X_new = np.append(ones,X,axis=1)\n",
    "    stop = False\n",
    "    IT = 0\n",
    "    while not stop:\n",
    "        for k in range(P):\n",
    "            IT += 1\n",
    "            y = np.sign(X_new[k]@W)\n",
    "            if y != tau[k]:\n",
    "                # Mise à jour des poids\n",
    "                Dw = alpha*(tau[k] - y)*X_new[k].reshape((N+1,1))\n",
    "                W = W + Dw\n",
    "            # Vérifiation si tout les données ont été bien classifié\n",
    "            if np.array_equal(np.sign(X_new@W),tau):\n",
    "                stop = True\n",
    "                break\n",
    "            \n",
    "    return W, IT"
   ]
  },
  {
   "cell_type": "markdown",
   "metadata": {},
   "source": [
    "## Plotting the data and the separation plan"
   ]
  },
  {
   "cell_type": "code",
   "execution_count": 4,
   "metadata": {},
   "outputs": [],
   "source": [
    "def plot_(X, tau, W, title):\n",
    "    d = np.unique(tau)\n",
    "    for k in d:\n",
    "        data = X[tau.squeeze()==k]\n",
    "        plt.scatter(data[:,0],data[:,1])\n",
    "    slope = -(W[0]/W[2])/(W[0]/W[1])  \n",
    "    intercept = -W[0]/W[2]\n",
    "    t = np.linspace(min(X[:,0]),max(X[:,0]),30)\n",
    "    plt.plot(t,t*slope + intercept,'.r')\n",
    "    plt.title(title)\n",
    "    plt.show()"
   ]
  },
  {
   "cell_type": "markdown",
   "metadata": {},
   "source": [
    "## Data"
   ]
  },
  {
   "cell_type": "code",
   "execution_count": 5,
   "metadata": {},
   "outputs": [],
   "source": [
    "P = 4 # Nombre d'exemple de données\n",
    "N = 2 # Dimension des données\n",
    "alpha = 1\n",
    "\n",
    "# Initialisation des données d'entrainement\n",
    "X = np.array([[-1,-1],[-1,1],[1,-1],[1,1]])\n",
    "tau_ET = np.array([[-1],[-1],[-1],[1]])\n",
    "tau_OU = np.array([[-1],[1],[1],[1]])\n",
    "\n",
    "P2 = 6\n",
    "X_Exemple = np.array([[5,-1],[2,6],[3, 3],[2, 1],[-1,1],[1,-2]])\n",
    "tau_Exemple = np.array([[1],[1],[1],[-1],[-1],[-1]])"
   ]
  },
  {
   "cell_type": "markdown",
   "metadata": {},
   "source": [
    "## Test Batch Perceptron"
   ]
  },
  {
   "cell_type": "code",
   "execution_count": 6,
   "metadata": {},
   "outputs": [
    {
     "name": "stdout",
     "output_type": "stream",
     "text": [
      "W_ET =  \n",
      " [[-2.33576759]\n",
      " [ 2.87244842]\n",
      " [ 1.49507781]]\n",
      "W_OU =  \n",
      " [[3.22977048]\n",
      " [3.31067908]\n",
      " [3.78597968]]\n",
      "W_Exemple =  \n",
      " [[-13.61049935]\n",
      " [  5.62533254]\n",
      " [  0.88730371]]\n"
     ]
    },
    {
     "data": {
      "image/png": "[encoded data removed]",
      "text/plain": [
       "<Figure size 432x288 with 1 Axes>"
      ]
     },
     "metadata": {
      "needs_background": "light"
     },
     "output_type": "display_data"
    },
    {
     "data": {
      "image/png": "[encoded data removed]",
      "text/plain": [
       "<Figure size 432x288 with 1 Axes>"
      ]
     },
     "metadata": {
      "needs_background": "light"
     },
     "output_type": "display_data"
    },
    {
     "data": {
      "image/png": "[encoded data removed]",
      "text/plain": [
       "<Figure size 432x288 with 1 Axes>"
      ]
     },
     "metadata": {
      "needs_background": "light"
     },
     "output_type": "display_data"
    }
   ],
   "source": [
    "# Calcul des perceptrons W pour ET, OU et un ensemble d'exemples du cours\n",
    "W_ET, _ = perceptron_batch(P, N, X, tau_ET, alpha)\n",
    "\n",
    "W_OU, _ = perceptron_batch(P, N, X, tau_OU, alpha)\n",
    "\n",
    "W_Exemple, _ = perceptron_batch(P2, N, X_Exemple, tau_Exemple, alpha)\n",
    "\n",
    "print('W_ET = ','\\n', W_ET)\n",
    "print('W_OU = ','\\n', W_OU)\n",
    "print('W_Exemple = ','\\n', W_Exemple)\n",
    "\n",
    "plot_(X,tau_ET,W_ET,'ET')\n",
    "plot_(X,tau_OU,W_OU,'OU')\n",
    "plot_(X_Exemple,tau_Exemple,W_Exemple,'Exemple')"
   ]
  },
  {
   "cell_type": "markdown",
   "metadata": {},
   "source": [
    "## Test Online Perceptron"
   ]
  },
  {
   "cell_type": "code",
   "execution_count": 7,
   "metadata": {},
   "outputs": [
    {
     "name": "stdout",
     "output_type": "stream",
     "text": [
      "W_ET =  \n",
      " [[-1.92051017]\n",
      " [ 2.69437857]\n",
      " [ 2.27012907]]\n",
      "W_OU =  \n",
      " [[2.2180894 ]\n",
      " [2.74043918]\n",
      " [1.16060747]]\n",
      "W_Exemple =  \n",
      " [[-12.55058414]\n",
      " [  5.33257111]\n",
      " [  0.47538707]]\n"
     ]
    },
    {
     "data": {
      "image/png": "[encoded data removed]",
      "text/plain": [
       "<Figure size 432x288 with 1 Axes>"
      ]
     },
     "metadata": {
      "needs_background": "light"
     },
     "output_type": "display_data"
    },
    {
     "data": {
      "image/png": "[encoded data removed]",
      "text/plain": [
       "<Figure size 432x288 with 1 Axes>"
      ]
     },
     "metadata": {
      "needs_background": "light"
     },
     "output_type": "display_data"
    },
    {
     "data": {
      "image/png": "[encoded data removed]",
      "text/plain": [
       "<Figure size 432x288 with 1 Axes>"
      ]
     },
     "metadata": {
      "needs_background": "light"
     },
     "output_type": "display_data"
    }
   ],
   "source": [
    "# Calcul des perceptrons W pour ET, OU et un ensemble d'exemples du cours\n",
    "W_ET, _ = perceptron_online(P, N, X, tau_ET, alpha)\n",
    "\n",
    "W_OU, _ = perceptron_online(P, N, X, tau_OU, alpha)\n",
    "\n",
    "W_Exemple, _ = perceptron_online(P2, N, X_Exemple, tau_Exemple, alpha)\n",
    "\n",
    "print('W_ET = ','\\n', W_ET)\n",
    "print('W_OU = ','\\n', W_OU)\n",
    "print('W_Exemple = ','\\n', W_Exemple)\n",
    "\n",
    "plot_(X,tau_ET,W_ET,'ET')\n",
    "plot_(X,tau_OU,W_OU,'OU')\n",
    "plot_(X_Exemple,tau_Exemple,W_Exemple,'Exemple')"
   ]
  },
  {
   "cell_type": "markdown",
   "metadata": {},
   "source": [
    "# Question 1/ Données LS aléatoires."
   ]
  },
  {
   "cell_type": "code",
   "execution_count": 8,
   "metadata": {},
   "outputs": [],
   "source": [
    "# Génération de l'ensemble des données et du Perceptron Professeur\n",
    "def generate_X_and_W(P, N):\n",
    "    W = np.random.uniform(-1,1,(N+1,1))\n",
    "    X = np.random.uniform(-1,1,(P,N))\n",
    "    ones = np.ones((P,1))\n",
    "    X = np.append(ones,X,axis=1)\n",
    "    return X, W\n",
    "\n",
    "# Calcul du tau \n",
    "def compute_tau(X,W):\n",
    "    return np.sign(X@W)"
   ]
  },
  {
   "cell_type": "code",
   "execution_count": 9,
   "metadata": {},
   "outputs": [
    {
     "data": {
      "image/png": "[encoded data removed]",
      "text/plain": [
       "<Figure size 432x288 with 1 Axes>"
      ]
     },
     "metadata": {
      "needs_background": "light"
     },
     "output_type": "display_data"
    }
   ],
   "source": [
    "P = 20\n",
    "N = 2\n",
    "alpha = 1\n",
    "# Tant que le Perceptron Professeur ne sépare pas l'ensemble des données en deux classe, continuer à générer les X et W\n",
    "while True:\n",
    "    X, W_star = generate_X_and_W(P, N)\n",
    "    tau = compute_tau(X,W_star)\n",
    "    if len(np.unique(tau) == 2):\n",
    "        break\n",
    "        \n",
    "plot_(X[:,1:],tau,W_star,'Tracer du Perceptron Professeur')"
   ]
  },
  {
   "cell_type": "markdown",
   "metadata": {},
   "source": [
    "# Question 2/ Apprentissage"
   ]
  },
  {
   "cell_type": "markdown",
   "metadata": {},
   "source": [
    "###  Computing R "
   ]
  },
  {
   "cell_type": "markdown",
   "metadata": {},
   "source": [
    "Ici La formule devrait probablement être <b> R = cos(α) = a · b / (|a| * |b|)</b>. <br/>\n",
    "Car en faisant <b>cos [ ( W* · W ) / | W* |·| W | ]</b> , Nous faison <b>cos(cos(α))</b>"
   ]
  },
  {
   "cell_type": "code",
   "execution_count": 10,
   "metadata": {},
   "outputs": [],
   "source": [
    "def compute_recouvrement(W_star, W):\n",
    "    return np.cos((W_star.T@W)/(np.linalg.norm(W_star)*np.linalg.norm(W)))"
   ]
  },
  {
   "cell_type": "markdown",
   "metadata": {},
   "source": [
    "### Plotting the comparaison between W*, W_Online and W_Batch"
   ]
  },
  {
   "cell_type": "code",
   "execution_count": 11,
   "metadata": {},
   "outputs": [],
   "source": [
    "def plot_comparaison(X, tau, W_star, W_online, W_batch, title):\n",
    "    d = np.unique(tau)\n",
    "    for k in d:\n",
    "        data = X[tau.squeeze()==k]\n",
    "        plt.scatter(data[:,0],data[:,1])\n",
    "        \n",
    "    slope_star = -(W_star[0]/W_star[2])/(W_star[0]/W_star[1])  \n",
    "    intercept_star = -W_star[0]/W_star[2]\n",
    "    \n",
    "    slope_online = -(W_online[0]/W_online[2])/(W_online[0]/W_online[1]) \n",
    "    intercept_online = -W_online[0]/W_online[2]\n",
    "    \n",
    "    slope_bath = -(W_batch[0]/W_batch[2])/(W_batch[0]/W_batch[1]) \n",
    "    intercept_batch = -W_batch[0]/W_batch[2]\n",
    "    \n",
    "    t = np.linspace(min(X[:,0]),max(X[:,0]),30)\n",
    "    plt.plot(t,t*slope_star + intercept_star,'.r', label='Professeur')\n",
    "    plt.plot(t,t*slope_online + intercept_online,'.g', label='Elève Online')\n",
    "    plt.plot(t,t*slope_bath + intercept_batch,'.b', label='Elève Batch')\n",
    "    plt.title(title)\n",
    "    plt.legend()\n",
    "    plt.show()"
   ]
  },
  {
   "cell_type": "code",
   "execution_count": 12,
   "metadata": {},
   "outputs": [
    {
     "data": {
      "image/png": "[encoded data removed]",
      "text/plain": [
       "<Figure size 432x288 with 1 Axes>"
      ]
     },
     "metadata": {
      "needs_background": "light"
     },
     "output_type": "display_data"
    }
   ],
   "source": [
    "W_online, IT_online = perceptron_online(P, N, X[:,1:], tau, alpha) # Calcule du Perceptron Elève Online\n",
    "W_batch, IT_batch = perceptron_batch(P, N, X[:,1:], tau, alpha) # Calcule du Perceptron Elève Batch\n",
    "plot_comparaison(X[:,1:],tau,W_star,W_online,W_batch,'Tracer') # Affichage des des trois Percptrons, Professeur, Elève Online et Batch"
   ]
  },
  {
   "cell_type": "code",
   "execution_count": 13,
   "metadata": {},
   "outputs": [
    {
     "name": "stdout",
     "output_type": "stream",
     "text": [
      "Recouvrement Elève Online:  0.5423769427213888\n",
      "Recouvrement Elève Batch:  0.5405606718208065\n"
     ]
    }
   ],
   "source": [
    "print('Recouvrement Elève Online: ', compute_recouvrement(W_star, W_online).squeeze()) # Recouvrement entre Perceptrons Professeur et Elève Online\n",
    "print('Recouvrement Elève Batch: ',compute_recouvrement(W_star, W_batch).squeeze())  # Recouvrement entre Perceptrons Professeur et Elève Batch"
   ]
  },
  {
   "cell_type": "markdown",
   "metadata": {},
   "source": [
    "# Question 3/ Tests"
   ]
  },
  {
   "cell_type": "code",
   "execution_count": 14,
   "metadata": {},
   "outputs": [],
   "source": [
    "def test_online(P, N, Nb_tirage):\n",
    "    IT_moy = 0\n",
    "    R_moy = 0\n",
    "    \n",
    "    for k in range(Nb_tirage):\n",
    "        X, W_star = generate_X_and_W(P, N)\n",
    "        tau = compute_tau(X,W_star)\n",
    "        W_online, IT_online = perceptron_online(P, N, X[:,1:], tau, alpha)\n",
    "        IT_moy += IT_online \n",
    "        R_moy += compute_recouvrement(W_star, W_online)\n",
    "        \n",
    "    IT_moy = IT_moy/Nb_tirage\n",
    "    R_moy = R_moy/Nb_tirage\n",
    "    \n",
    "    return IT_moy, R_moy\n",
    "\n",
    "def test_batch(P, N, Nb_tirage):\n",
    "    IT_moy = 0\n",
    "    R_moy = 0\n",
    "    \n",
    "    for k in range(Nb_tirage):\n",
    "        X, W_star = generate_X_and_W(P, N)\n",
    "        tau = compute_tau(X,W_star)\n",
    "        W_batch, IT_batch = perceptron_batch(P, N, X[:,1:], tau, alpha)\n",
    "        IT_moy += IT_batch \n",
    "        R_moy += compute_recouvrement(W_star, W_batch)\n",
    "        \n",
    "    IT_moy = IT_moy/Nb_tirage\n",
    "    R_moy = R_moy/Nb_tirage\n",
    "    \n",
    "    return IT_moy, R_moy"
   ]
  },
  {
   "cell_type": "markdown",
   "metadata": {},
   "source": [
    "## Data to iterate on"
   ]
  },
  {
   "cell_type": "code",
   "execution_count": 15,
   "metadata": {},
   "outputs": [],
   "source": [
    "N = [ 5, 10, 100, 1000]\n",
    "P = [10, 100, 500, 5000]\n",
    "Nb_tirage = 50"
   ]
  },
  {
   "cell_type": "code",
   "execution_count": 16,
   "metadata": {},
   "outputs": [
    {
     "name": "stdout",
     "output_type": "stream",
     "text": [
      "Online | N =  5  P =  10  IT moyenne =  21.48 ; R moyenne =  0.7232400685407118\n",
      "Batch  | N =  5  P =  10  IT moyenne =  4.48 ; R moyenne =  0.7013390226872196\n",
      "Online | N =  5  P =  100  IT moyenne =  2593.2 ; R moyenne =  0.551626803795127\n",
      "Batch  | N =  5  P =  100  IT moyenne =  18.12 ; R moyenne =  0.5471279179212114\n"
     ]
    },
    {
     "ename": "KeyboardInterrupt",
     "evalue": "",
     "output_type": "error",
     "traceback": [
      "\u001b[1;31m---------------------------------------------------------------------------\u001b[0m",
      "\u001b[1;31mKeyboardInterrupt\u001b[0m                         Traceback (most recent call last)",
      "\u001b[1;32m<ipython-input-16-24add6489e05>\u001b[0m in \u001b[0;36m<module>\u001b[1;34m\u001b[0m\n\u001b[0;32m      1\u001b[0m \u001b[1;32mfor\u001b[0m \u001b[0mn\u001b[0m \u001b[1;32min\u001b[0m \u001b[0mN\u001b[0m\u001b[1;33m:\u001b[0m\u001b[1;33m\u001b[0m\u001b[1;33m\u001b[0m\u001b[0m\n\u001b[0;32m      2\u001b[0m     \u001b[1;32mfor\u001b[0m \u001b[0mp\u001b[0m \u001b[1;32min\u001b[0m \u001b[0mP\u001b[0m\u001b[1;33m:\u001b[0m\u001b[1;33m\u001b[0m\u001b[1;33m\u001b[0m\u001b[0m\n\u001b[1;32m----> 3\u001b[1;33m         \u001b[0mresult_online\u001b[0m \u001b[1;33m=\u001b[0m \u001b[0mtest_online\u001b[0m\u001b[1;33m(\u001b[0m\u001b[0mp\u001b[0m\u001b[1;33m,\u001b[0m \u001b[0mn\u001b[0m\u001b[1;33m,\u001b[0m \u001b[0mNb_tirage\u001b[0m\u001b[1;33m)\u001b[0m\u001b[1;33m\u001b[0m\u001b[1;33m\u001b[0m\u001b[0m\n\u001b[0m\u001b[0;32m      4\u001b[0m         \u001b[0mresult_batch\u001b[0m \u001b[1;33m=\u001b[0m \u001b[0mtest_batch\u001b[0m\u001b[1;33m(\u001b[0m\u001b[0mp\u001b[0m\u001b[1;33m,\u001b[0m \u001b[0mn\u001b[0m\u001b[1;33m,\u001b[0m \u001b[0mNb_tirage\u001b[0m\u001b[1;33m)\u001b[0m\u001b[1;33m\u001b[0m\u001b[1;33m\u001b[0m\u001b[0m\n\u001b[0;32m      5\u001b[0m         \u001b[0mprint\u001b[0m\u001b[1;33m(\u001b[0m\u001b[1;34m'Online |'\u001b[0m\u001b[1;33m,\u001b[0m\u001b[1;34m'N = '\u001b[0m\u001b[1;33m,\u001b[0m\u001b[0mn\u001b[0m\u001b[1;33m,\u001b[0m\u001b[1;34m' P = '\u001b[0m\u001b[1;33m,\u001b[0m \u001b[0mp\u001b[0m\u001b[1;33m,\u001b[0m \u001b[1;34m' IT moyenne = '\u001b[0m\u001b[1;33m,\u001b[0m\u001b[0mresult_online\u001b[0m\u001b[1;33m[\u001b[0m\u001b[1;36m0\u001b[0m\u001b[1;33m]\u001b[0m\u001b[1;33m,\u001b[0m \u001b[1;34m'; R moyenne = '\u001b[0m\u001b[1;33m,\u001b[0m\u001b[0mresult_online\u001b[0m\u001b[1;33m[\u001b[0m\u001b[1;36m1\u001b[0m\u001b[1;33m]\u001b[0m\u001b[1;33m.\u001b[0m\u001b[0msqueeze\u001b[0m\u001b[1;33m(\u001b[0m\u001b[1;33m)\u001b[0m\u001b[1;33m)\u001b[0m\u001b[1;33m\u001b[0m\u001b[1;33m\u001b[0m\u001b[0m\n",
      "\u001b[1;32m<ipython-input-14-507658ab9886>\u001b[0m in \u001b[0;36mtest_online\u001b[1;34m(P, N, Nb_tirage)\u001b[0m\n\u001b[0;32m      6\u001b[0m         \u001b[0mX\u001b[0m\u001b[1;33m,\u001b[0m \u001b[0mW_star\u001b[0m \u001b[1;33m=\u001b[0m \u001b[0mgenerate_X_and_W\u001b[0m\u001b[1;33m(\u001b[0m\u001b[0mP\u001b[0m\u001b[1;33m,\u001b[0m \u001b[0mN\u001b[0m\u001b[1;33m)\u001b[0m\u001b[1;33m\u001b[0m\u001b[1;33m\u001b[0m\u001b[0m\n\u001b[0;32m      7\u001b[0m         \u001b[0mtau\u001b[0m \u001b[1;33m=\u001b[0m \u001b[0mcompute_tau\u001b[0m\u001b[1;33m(\u001b[0m\u001b[0mX\u001b[0m\u001b[1;33m,\u001b[0m\u001b[0mW_star\u001b[0m\u001b[1;33m)\u001b[0m\u001b[1;33m\u001b[0m\u001b[1;33m\u001b[0m\u001b[0m\n\u001b[1;32m----> 8\u001b[1;33m         \u001b[0mW_online\u001b[0m\u001b[1;33m,\u001b[0m \u001b[0mIT_online\u001b[0m \u001b[1;33m=\u001b[0m \u001b[0mperceptron_online\u001b[0m\u001b[1;33m(\u001b[0m\u001b[0mP\u001b[0m\u001b[1;33m,\u001b[0m \u001b[0mN\u001b[0m\u001b[1;33m,\u001b[0m \u001b[0mX\u001b[0m\u001b[1;33m[\u001b[0m\u001b[1;33m:\u001b[0m\u001b[1;33m,\u001b[0m\u001b[1;36m1\u001b[0m\u001b[1;33m:\u001b[0m\u001b[1;33m]\u001b[0m\u001b[1;33m,\u001b[0m \u001b[0mtau\u001b[0m\u001b[1;33m,\u001b[0m \u001b[0malpha\u001b[0m\u001b[1;33m)\u001b[0m\u001b[1;33m\u001b[0m\u001b[1;33m\u001b[0m\u001b[0m\n\u001b[0m\u001b[0;32m      9\u001b[0m         \u001b[0mIT_moy\u001b[0m \u001b[1;33m+=\u001b[0m \u001b[0mIT_online\u001b[0m\u001b[1;33m\u001b[0m\u001b[1;33m\u001b[0m\u001b[0m\n\u001b[0;32m     10\u001b[0m         \u001b[0mR_moy\u001b[0m \u001b[1;33m+=\u001b[0m \u001b[0mcompute_recouvrement\u001b[0m\u001b[1;33m(\u001b[0m\u001b[0mW_star\u001b[0m\u001b[1;33m,\u001b[0m \u001b[0mW_online\u001b[0m\u001b[1;33m)\u001b[0m\u001b[1;33m\u001b[0m\u001b[1;33m\u001b[0m\u001b[0m\n",
      "\u001b[1;32m<ipython-input-3-4a46b9b48261>\u001b[0m in \u001b[0;36mperceptron_online\u001b[1;34m(P, N, X, tau, alpha)\u001b[0m\n\u001b[0;32m      9\u001b[0m     \u001b[1;32mwhile\u001b[0m \u001b[1;32mnot\u001b[0m \u001b[0mstop\u001b[0m\u001b[1;33m:\u001b[0m\u001b[1;33m\u001b[0m\u001b[1;33m\u001b[0m\u001b[0m\n\u001b[0;32m     10\u001b[0m         \u001b[1;32mfor\u001b[0m \u001b[0mk\u001b[0m \u001b[1;32min\u001b[0m \u001b[0mrange\u001b[0m\u001b[1;33m(\u001b[0m\u001b[0mP\u001b[0m\u001b[1;33m)\u001b[0m\u001b[1;33m:\u001b[0m\u001b[1;33m\u001b[0m\u001b[1;33m\u001b[0m\u001b[0m\n\u001b[1;32m---> 11\u001b[1;33m             \u001b[0mIT\u001b[0m \u001b[1;33m+=\u001b[0m \u001b[1;36m1\u001b[0m\u001b[1;33m\u001b[0m\u001b[1;33m\u001b[0m\u001b[0m\n\u001b[0m\u001b[0;32m     12\u001b[0m             \u001b[0my\u001b[0m \u001b[1;33m=\u001b[0m \u001b[0mnp\u001b[0m\u001b[1;33m.\u001b[0m\u001b[0msign\u001b[0m\u001b[1;33m(\u001b[0m\u001b[0mX_new\u001b[0m\u001b[1;33m[\u001b[0m\u001b[0mk\u001b[0m\u001b[1;33m]\u001b[0m\u001b[1;33m@\u001b[0m\u001b[0mW\u001b[0m\u001b[1;33m)\u001b[0m\u001b[1;33m\u001b[0m\u001b[1;33m\u001b[0m\u001b[0m\n\u001b[0;32m     13\u001b[0m             \u001b[1;32mif\u001b[0m \u001b[0my\u001b[0m \u001b[1;33m!=\u001b[0m \u001b[0mtau\u001b[0m\u001b[1;33m[\u001b[0m\u001b[0mk\u001b[0m\u001b[1;33m]\u001b[0m\u001b[1;33m:\u001b[0m\u001b[1;33m\u001b[0m\u001b[1;33m\u001b[0m\u001b[0m\n",
      "\u001b[1;31mKeyboardInterrupt\u001b[0m: "
     ]
    }
   ],
   "source": [
    "for n in N:\n",
    "    for p in P:\n",
    "        result_online = test_online(p, n, Nb_tirage)\n",
    "        result_batch = test_batch(p, n, Nb_tirage)\n",
    "        print('Online |','N = ',n,' P = ', p, ' IT moyenne = ',result_online[0], '; R moyenne = ',result_online[1].squeeze())\n",
    "        print('Batch  |','N = ', n,' P = ', p, ' IT moyenne = ',result_batch[0], '; R moyenne = ',result_batch[1].squeeze())"
   ]
  },
  {
   "cell_type": "code",
   "execution_count": null,
   "metadata": {},
   "outputs": [],
   "source": []
  },
  {
   "cell_type": "code",
   "execution_count": null,
   "metadata": {},
   "outputs": [],
   "source": []
  }
 ],
 "metadata": {
  "kernelspec": {
   "display_name": "Python 3",
   "language": "python",
   "name": "python3"
  },
  "language_info": {
   "codemirror_mode": {
    "name": "ipython",
    "version": 3
   },
   "file_extension": ".py",
   "mimetype": "text/x-python",
   "name": "python",
   "nbconvert_exporter": "python",
   "pygments_lexer": "ipython3",
   "version": "3.8.5"
  }
 },
 "nbformat": 4,
 "nbformat_minor": 4
}
